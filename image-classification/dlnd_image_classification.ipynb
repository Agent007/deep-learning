{
 "cells": [
  {
   "cell_type": "markdown",
   "metadata": {
    "collapsed": true
   },
   "source": [
    "# Image Classification\n",
    "In this project, you'll classify images from the [CIFAR-10 dataset](https://www.cs.toronto.edu/~kriz/cifar.html).  The dataset consists of airplanes, dogs, cats, and other objects. You'll preprocess the images, then train a convolutional neural network on all the samples. The images need to be normalized and the labels need to be one-hot encoded.  You'll get to apply what you learned and build a convolutional, max pooling, dropout, and fully connected layers.  At the end, you'll get to see your neural network's predictions on the sample images.\n",
    "## Get the Data\n",
    "Run the following cell to download the [CIFAR-10 dataset for python](https://www.cs.toronto.edu/~kriz/cifar-10-python.tar.gz)."
   ]
  },
  {
   "cell_type": "code",
   "execution_count": 1,
   "metadata": {
    "collapsed": false
   },
   "outputs": [
    {
     "name": "stderr",
     "output_type": "stream",
     "text": [
      "CIFAR-10 Dataset: 171MB [25:12, 113KB/s]                            \n"
     ]
    },
    {
     "name": "stdout",
     "output_type": "stream",
     "text": [
      "All files found!\n"
     ]
    }
   ],
   "source": [
    "\"\"\"\n",
    "DON'T MODIFY ANYTHING IN THIS CELL THAT IS BELOW THIS LINE\n",
    "\"\"\"\n",
    "from urllib.request import urlretrieve\n",
    "from os.path import isfile, isdir\n",
    "from tqdm import tqdm\n",
    "import problem_unittests as tests\n",
    "import tarfile\n",
    "\n",
    "cifar10_dataset_folder_path = 'cifar-10-batches-py'\n",
    "\n",
    "class DLProgress(tqdm):\n",
    "    last_block = 0\n",
    "\n",
    "    def hook(self, block_num=1, block_size=1, total_size=None):\n",
    "        self.total = total_size\n",
    "        self.update((block_num - self.last_block) * block_size)\n",
    "        self.last_block = block_num\n",
    "\n",
    "if not isfile('cifar-10-python.tar.gz'):\n",
    "    with DLProgress(unit='B', unit_scale=True, miniters=1, desc='CIFAR-10 Dataset') as pbar:\n",
    "        urlretrieve(\n",
    "            'https://www.cs.toronto.edu/~kriz/cifar-10-python.tar.gz',\n",
    "            'cifar-10-python.tar.gz',\n",
    "            pbar.hook)\n",
    "\n",
    "if not isdir(cifar10_dataset_folder_path):\n",
    "    with tarfile.open('cifar-10-python.tar.gz') as tar:\n",
    "        tar.extractall()\n",
    "        tar.close()\n",
    "\n",
    "\n",
    "tests.test_folder_path(cifar10_dataset_folder_path)"
   ]
  },
  {
   "cell_type": "markdown",
   "metadata": {},
   "source": [
    "## Explore the Data\n",
    "The dataset is broken into batches to prevent your machine from running out of memory.  The CIFAR-10 dataset consists of 5 batches, named `data_batch_1`, `data_batch_2`, etc.. Each batch contains the labels and images that are one of the following:\n",
    "* airplane\n",
    "* automobile\n",
    "* bird\n",
    "* cat\n",
    "* deer\n",
    "* dog\n",
    "* frog\n",
    "* horse\n",
    "* ship\n",
    "* truck\n",
    "\n",
    "Understanding a dataset is part of making predictions on the data.  Play around with the code cell below by changing the `batch_id` and `sample_id`. The `batch_id` is the id for a batch (1-5). The `sample_id` is the id for a image and label pair in the batch.\n",
    "\n",
    "Ask yourself \"What are all possible labels?\", \"What is the range of values for the image data?\", \"Are the labels in order or random?\".  Answers to questions like these will help you preprocess the data and end up with better predictions."
   ]
  },
  {
   "cell_type": "code",
   "execution_count": 2,
   "metadata": {
    "collapsed": false
   },
   "outputs": [
    {
     "name": "stdout",
     "output_type": "stream",
     "text": [
      "\n",
      "Stats of batch 1:\n",
      "Samples: 10000\n",
      "Label Counts: {0: 1005, 1: 974, 2: 1032, 3: 1016, 4: 999, 5: 937, 6: 1030, 7: 1001, 8: 1025, 9: 981}\n",
      "First 20 Labels: [6, 9, 9, 4, 1, 1, 2, 7, 8, 3, 4, 7, 7, 2, 9, 9, 9, 3, 2, 6]\n",
      "\n",
      "Example of Image 5:\n",
      "Image - Min Value: 0 Max Value: 252\n",
      "Image - Shape: (32, 32, 3)\n",
      "Label - Label Id: 1 Name: automobile\n"
     ]
    },
    {
     "data": {
      "image/png": "[encoded data removed]",
      "text/plain": [
       "<matplotlib.figure.Figure at 0x7f97320b2cf8>"
      ]
     },
     "metadata": {
      "image/png": {
       "height": 250,
       "width": 253
      }
     },
     "output_type": "display_data"
    }
   ],
   "source": [
    "%matplotlib inline\n",
    "%config InlineBackend.figure_format = 'retina'\n",
    "\n",
    "import helper\n",
    "import numpy as np\n",
    "\n",
    "# Explore the dataset\n",
    "batch_id = 1\n",
    "sample_id = 5\n",
    "helper.display_stats(cifar10_dataset_folder_path, batch_id, sample_id)"
   ]
  },
  {
   "cell_type": "markdown",
   "metadata": {},
   "source": [
    "## Implement Preprocess Functions\n",
    "### Normalize\n",
    "In the cell below, implement the `normalize` function to take in image data, `x`, and return it as a normalized Numpy array. The values should be in the range of 0 to 1, inclusive.  The return object should be the same shape as `x`."
   ]
  },
  {
   "cell_type": "code",
   "execution_count": 3,
   "metadata": {
    "collapsed": false
   },
   "outputs": [
    {
     "name": "stdout",
     "output_type": "stream",
     "text": [
      "Tests Passed\n"
     ]
    }
   ],
   "source": [
    "def normalize(x):\n",
    "    \"\"\"\n",
    "    Normalize a list of sample image data in the range of 0 to 1\n",
    "    : x: List of image data.  The image shape is (32, 32, 3)\n",
    "    : return: Numpy array of normalize data\n",
    "    \"\"\"\n",
    "    return x / 255.0\n",
    "\n",
    "\n",
    "\"\"\"\n",
    "DON'T MODIFY ANYTHING IN THIS CELL THAT IS BELOW THIS LINE\n",
    "\"\"\"\n",
    "tests.test_normalize(normalize)"
   ]
  },
  {
   "cell_type": "markdown",
   "metadata": {},
   "source": [
    "### One-hot encode\n",
    "Just like the previous code cell, you'll be implementing a function for preprocessing.  This time, you'll implement the `one_hot_encode` function. The input, `x`, are a list of labels.  Implement the function to return the list of labels as One-Hot encoded Numpy array.  The possible values for labels are 0 to 9. The one-hot encoding function should return the same encoding for each value between each call to `one_hot_encode`.  Make sure to save the map of encodings outside the function.\n",
    "\n",
    "Hint: Don't reinvent the wheel."
   ]
  },
  {
   "cell_type": "code",
   "execution_count": 4,
   "metadata": {
    "collapsed": false
   },
   "outputs": [
    {
     "name": "stdout",
     "output_type": "stream",
     "text": [
      "Tests Passed\n"
     ]
    }
   ],
   "source": [
    "encodings_map = np.eye(10)\n",
    "\n",
    "def one_hot_encode(x):\n",
    "    \"\"\"\n",
    "    One hot encode a list of sample labels. Return a one-hot encoded vector for each label.\n",
    "    : x: List of sample Labels\n",
    "    : return: Numpy array of one-hot encoded labels\n",
    "    \"\"\"\n",
    "    return np.array([encodings_map[label] for label in x])\n",
    "\n",
    "\n",
    "\"\"\"\n",
    "DON'T MODIFY ANYTHING IN THIS CELL THAT IS BELOW THIS LINE\n",
    "\"\"\"\n",
    "tests.test_one_hot_encode(one_hot_encode)"
   ]
  },
  {
   "cell_type": "markdown",
   "metadata": {},
   "source": [
    "### Randomize Data\n",
    "As you saw from exploring the data above, the order of the samples are randomized.  It doesn't hurt to randomize it again, but you don't need to for this dataset."
   ]
  },
  {
   "cell_type": "markdown",
   "metadata": {},
   "source": [
    "## Preprocess all the data and save it\n",
    "Running the code cell below will preprocess all the CIFAR-10 data and save it to file. The code below also uses 10% of the training data for validation."
   ]
  },
  {
   "cell_type": "code",
   "execution_count": 5,
   "metadata": {
    "collapsed": false
   },
   "outputs": [],
   "source": [
    "\"\"\"\n",
    "DON'T MODIFY ANYTHING IN THIS CELL\n",
    "\"\"\"\n",
    "# Preprocess Training, Validation, and Testing Data\n",
    "helper.preprocess_and_save_data(cifar10_dataset_folder_path, normalize, one_hot_encode)"
   ]
  },
  {
   "cell_type": "markdown",
   "metadata": {},
   "source": [
    "# Check Point\n",
    "This is your first checkpoint.  If you ever decide to come back to this notebook or have to restart the notebook, you can start from here.  The preprocessed data has been saved to disk."
   ]
  },
  {
   "cell_type": "code",
   "execution_count": 1,
   "metadata": {
    "collapsed": true
   },
   "outputs": [],
   "source": [
    "\"\"\"\n",
    "DON'T MODIFY ANYTHING IN THIS CELL\n",
    "\"\"\"\n",
    "import pickle\n",
    "import problem_unittests as tests\n",
    "import helper\n",
    "\n",
    "# Load the Preprocessed Validation data\n",
    "valid_features, valid_labels = pickle.load(open('preprocess_validation.p', mode='rb'))"
   ]
  },
  {
   "cell_type": "markdown",
   "metadata": {},
   "source": [
    "## Build the network\n",
    "For the neural network, you'll build each layer into a function.  Most of the code you've seen has been outside of functions. To test your code more thoroughly, we require that you put each layer in a function.  This allows us to give you better feedback and test for simple mistakes using our unittests before you submit your project.\n",
    "\n",
    ">**Note:** If you're finding it hard to dedicate enough time for this course each week, we've provided a small shortcut to this part of the project. In the next couple of problems, you'll have the option to use classes from the [TensorFlow Layers](https://www.tensorflow.org/api_docs/python/tf/layers) or [TensorFlow Layers (contrib)](https://www.tensorflow.org/api_guides/python/contrib.layers) packages to build each layer, except the layers you build in the \"Convolutional and Max Pooling Layer\" section.  TF Layers is similar to Keras's and TFLearn's abstraction to layers, so it's easy to pickup.\n",
    "\n",
    ">However, if you would like to get the most out of this course, try to solve all the problems _without_ using anything from the TF Layers packages. You **can** still use classes from other packages that happen to have the same name as ones you find in TF Layers! For example, instead of using the TF Layers version of the `conv2d` class, [tf.layers.conv2d](https://www.tensorflow.org/api_docs/python/tf/layers/conv2d), you would want to use the TF Neural Network version of `conv2d`, [tf.nn.conv2d](https://www.tensorflow.org/api_docs/python/tf/nn/conv2d). \n",
    "\n",
    "Let's begin!\n",
    "\n",
    "### Input\n",
    "The neural network needs to read the image data, one-hot encoded labels, and dropout keep probability. Implement the following functions\n",
    "* Implement `neural_net_image_input`\n",
    " * Return a [TF Placeholder](https://www.tensorflow.org/api_docs/python/tf/placeholder)\n",
    " * Set the shape using `image_shape` with batch size set to `None`.\n",
    " * Name the TensorFlow placeholder \"x\" using the TensorFlow `name` parameter in the [TF Placeholder](https://www.tensorflow.org/api_docs/python/tf/placeholder).\n",
    "* Implement `neural_net_label_input`\n",
    " * Return a [TF Placeholder](https://www.tensorflow.org/api_docs/python/tf/placeholder)\n",
    " * Set the shape using `n_classes` with batch size set to `None`.\n",
    " * Name the TensorFlow placeholder \"y\" using the TensorFlow `name` parameter in the [TF Placeholder](https://www.tensorflow.org/api_docs/python/tf/placeholder).\n",
    "* Implement `neural_net_keep_prob_input`\n",
    " * Return a [TF Placeholder](https://www.tensorflow.org/api_docs/python/tf/placeholder) for dropout keep probability.\n",
    " * Name the TensorFlow placeholder \"keep_prob\" using the TensorFlow `name` parameter in the [TF Placeholder](https://www.tensorflow.org/api_docs/python/tf/placeholder).\n",
    "\n",
    "These names will be used at the end of the project to load your saved model.\n",
    "\n",
    "Note: `None` for shapes in TensorFlow allow for a dynamic size."
   ]
  },
  {
   "cell_type": "code",
   "execution_count": 2,
   "metadata": {
    "collapsed": false
   },
   "outputs": [
    {
     "name": "stdout",
     "output_type": "stream",
     "text": [
      "Image Input Tests Passed.\n",
      "Label Input Tests Passed.\n",
      "Keep Prob Tests Passed.\n"
     ]
    }
   ],
   "source": [
    "import tensorflow as tf\n",
    "\n",
    "def neural_net_image_input(image_shape):\n",
    "    \"\"\"\n",
    "    Return a Tensor for a batch of image input\n",
    "    : image_shape: Shape of the images\n",
    "    : return: Tensor for image input.\n",
    "    \"\"\"\n",
    "    batch_shape = [None] + list(image_shape)\n",
    "    return tf.placeholder(tf.float32, shape=batch_shape, name=\"x\")\n",
    "\n",
    "\n",
    "def neural_net_label_input(n_classes):\n",
    "    \"\"\"\n",
    "    Return a Tensor for a batch of label input\n",
    "    : n_classes: Number of classes\n",
    "    : return: Tensor for label input.\n",
    "    \"\"\"\n",
    "    return tf.placeholder(tf.uint8, shape=(None, n_classes), name=\"y\")\n",
    "\n",
    "\n",
    "def neural_net_keep_prob_input():\n",
    "    \"\"\"\n",
    "    Return a Tensor for keep probability\n",
    "    : return: Tensor for keep probability.\n",
    "    \"\"\"\n",
    "    return tf.placeholder(tf.float32, name=\"keep_prob\")\n",
    "\n",
    "\n",
    "\"\"\"\n",
    "DON'T MODIFY ANYTHING IN THIS CELL THAT IS BELOW THIS LINE\n",
    "\"\"\"\n",
    "tf.reset_default_graph()\n",
    "tests.test_nn_image_inputs(neural_net_image_input)\n",
    "tests.test_nn_label_inputs(neural_net_label_input)\n",
    "tests.test_nn_keep_prob_inputs(neural_net_keep_prob_input)"
   ]
  },
  {
   "cell_type": "markdown",
   "metadata": {},
   "source": [
    "### Convolution and Max Pooling Layer\n",
    "Convolution layers have a lot of success with images. For this code cell, you should implement the function `conv2d_maxpool` to apply convolution then max pooling:\n",
    "* Create the weight and bias using `conv_ksize`, `conv_num_outputs` and the shape of `x_tensor`.\n",
    "* Apply a convolution to `x_tensor` using weight and `conv_strides`.\n",
    " * We recommend you use same padding, but you're welcome to use any padding.\n",
    "* Add bias\n",
    "* Add a nonlinear activation to the convolution.\n",
    "* Apply Max Pooling using `pool_ksize` and `pool_strides`.\n",
    " * We recommend you use same padding, but you're welcome to use any padding.\n",
    "\n",
    "**Note:** You **can't** use [TensorFlow Layers](https://www.tensorflow.org/api_docs/python/tf/layers) or [TensorFlow Layers (contrib)](https://www.tensorflow.org/api_guides/python/contrib.layers) for **this** layer, but you can still use TensorFlow's [Neural Network](https://www.tensorflow.org/api_docs/python/tf/nn) package. You may still use the shortcut option for all the **other** layers."
   ]
  },
  {
   "cell_type": "code",
   "execution_count": 3,
   "metadata": {
    "collapsed": false
   },
   "outputs": [
    {
     "name": "stdout",
     "output_type": "stream",
     "text": [
      "Tests Passed\n"
     ]
    }
   ],
   "source": [
    "def conv2d_maxpool(x_tensor, conv_num_outputs, conv_ksize, conv_strides, pool_ksize, pool_strides):\n",
    "    \"\"\"\n",
    "    Apply convolution then max pooling to x_tensor\n",
    "    :param x_tensor: TensorFlow Tensor\n",
    "    :param conv_num_outputs: Number of outputs for the convolutional layer\n",
    "    :param conv_ksize: kernal size 2-D Tuple for the convolutional layer\n",
    "    :param conv_strides: Stride 2-D Tuple for convolution\n",
    "    :param pool_ksize: kernal size 2-D Tuple for pool\n",
    "    :param pool_strides: Stride 2-D Tuple for pool\n",
    "    : return: A tensor that represents convolution and max pooling of x_tensor\n",
    "    \"\"\"\n",
    "    x_tensor_shape = x_tensor.shape\n",
    "    conv_num_outputs_array = [conv_num_outputs]\n",
    "    color_channels = x_tensor_shape.as_list()[-1:]\n",
    "    conv_kernel_shape = list(conv_ksize) + color_channels + conv_num_outputs_array\n",
    "    conv_kernel_weights = tf.Variable(tf.truncated_normal(conv_kernel_shape))\n",
    "    conv = tf.nn.conv2d(x_tensor, conv_kernel_weights, strides=[1, conv_strides[0], conv_strides[1], 1], padding='SAME')\n",
    "    biases = tf.Variable(tf.truncated_normal(conv_num_outputs_array))\n",
    "    pre_activation = tf.nn.bias_add(conv, biases)\n",
    "    conv_post_activation = tf.nn.relu(pre_activation)\n",
    "    return tf.nn.max_pool(conv_post_activation, ksize=[1, pool_ksize[0], pool_ksize[1],1], strides=[1, pool_strides[0], pool_strides[1], 1], padding='SAME', data_format='NHWC') \n",
    "\n",
    "\"\"\"\n",
    "DON'T MODIFY ANYTHING IN THIS CELL THAT IS BELOW THIS LINE\n",
    "\"\"\"\n",
    "tests.test_con_pool(conv2d_maxpool)"
   ]
  },
  {
   "cell_type": "markdown",
   "metadata": {},
   "source": [
    "### Flatten Layer\n",
    "Implement the `flatten` function to change the dimension of `x_tensor` from a 4-D tensor to a 2-D tensor.  The output should be the shape (*Batch Size*, *Flattened Image Size*). Shortcut option: you can use classes from the [TensorFlow Layers](https://www.tensorflow.org/api_docs/python/tf/layers) or [TensorFlow Layers (contrib)](https://www.tensorflow.org/api_guides/python/contrib.layers) packages for this layer. For more of a challenge, only use other TensorFlow packages."
   ]
  },
  {
   "cell_type": "code",
   "execution_count": 4,
   "metadata": {
    "collapsed": false
   },
   "outputs": [
    {
     "name": "stdout",
     "output_type": "stream",
     "text": [
      "Tests Passed\n"
     ]
    }
   ],
   "source": [
    "def flatten(x_tensor):\n",
    "    \"\"\"\n",
    "    Flatten x_tensor to (Batch Size, Flattened Image Size)\n",
    "    : x_tensor: A tensor of size (Batch Size, ...), where ... are the image dimensions.\n",
    "    : return: A tensor of size (Batch Size, Flattened Image Size).\n",
    "    \"\"\"\n",
    "    return tf.contrib.layers.flatten(x_tensor)\n",
    "\n",
    "\n",
    "\"\"\"\n",
    "DON'T MODIFY ANYTHING IN THIS CELL THAT IS BELOW THIS LINE\n",
    "\"\"\"\n",
    "tests.test_flatten(flatten)"
   ]
  },
  {
   "cell_type": "markdown",
   "metadata": {},
   "source": [
    "### Fully-Connected Layer\n",
    "Implement the `fully_conn` function to apply a fully connected layer to `x_tensor` with the shape (*Batch Size*, *num_outputs*). Shortcut option: you can use classes from the [TensorFlow Layers](https://www.tensorflow.org/api_docs/python/tf/layers) or [TensorFlow Layers (contrib)](https://www.tensorflow.org/api_guides/python/contrib.layers) packages for this layer. For more of a challenge, only use other TensorFlow packages."
   ]
  },
  {
   "cell_type": "code",
   "execution_count": 5,
   "metadata": {
    "collapsed": false
   },
   "outputs": [
    {
     "name": "stdout",
     "output_type": "stream",
     "text": [
      "Tests Passed\n"
     ]
    }
   ],
   "source": [
    "def fully_conn(x_tensor, num_outputs):\n",
    "    \"\"\"\n",
    "    Apply a fully connected layer to x_tensor using weight and bias\n",
    "    : x_tensor: A 2-D tensor where the first dimension is batch size.\n",
    "    : num_outputs: The number of output that the new tensor should be.\n",
    "    : return: A 2-D tensor where the second dimension is num_outputs.\n",
    "    \"\"\"\n",
    "    return tf.layers.dense(x_tensor, num_outputs, activation=tf.nn.relu)\n",
    "\n",
    "\n",
    "\"\"\"\n",
    "DON'T MODIFY ANYTHING IN THIS CELL THAT IS BELOW THIS LINE\n",
    "\"\"\"\n",
    "tests.test_fully_conn(fully_conn)"
   ]
  },
  {
   "cell_type": "markdown",
   "metadata": {},
   "source": [
    "### Output Layer\n",
    "Implement the `output` function to apply a fully connected layer to `x_tensor` with the shape (*Batch Size*, *num_outputs*). Shortcut option: you can use classes from the [TensorFlow Layers](https://www.tensorflow.org/api_docs/python/tf/layers) or [TensorFlow Layers (contrib)](https://www.tensorflow.org/api_guides/python/contrib.layers) packages for this layer. For more of a challenge, only use other TensorFlow packages.\n",
    "\n",
    "**Note:** Activation, softmax, or cross entropy should **not** be applied to this."
   ]
  },
  {
   "cell_type": "code",
   "execution_count": 6,
   "metadata": {
    "collapsed": false
   },
   "outputs": [
    {
     "name": "stdout",
     "output_type": "stream",
     "text": [
      "Tests Passed\n"
     ]
    }
   ],
   "source": [
    "def output(x_tensor, num_outputs):\n",
    "    \"\"\"\n",
    "    Apply a output layer to x_tensor using weight and bias\n",
    "    : x_tensor: A 2-D tensor where the first dimension is batch size.\n",
    "    : num_outputs: The number of output that the new tensor should be.\n",
    "    : return: A 2-D tensor where the second dimension is num_outputs.\n",
    "    \"\"\"\n",
    "    # TODO: Implement Function\n",
    "    return tf.contrib.layers.linear(x_tensor, num_outputs)\n",
    "\n",
    "\n",
    "\"\"\"\n",
    "DON'T MODIFY ANYTHING IN THIS CELL THAT IS BELOW THIS LINE\n",
    "\"\"\"\n",
    "tests.test_output(output)"
   ]
  },
  {
   "cell_type": "markdown",
   "metadata": {},
   "source": [
    "### Create Convolutional Model\n",
    "Implement the function `conv_net` to create a convolutional neural network model. The function takes in a batch of images, `x`, and outputs logits.  Use the layers you created above to create this model:\n",
    "\n",
    "* Apply 1, 2, or 3 Convolution and Max Pool layers\n",
    "* Apply a Flatten Layer\n",
    "* Apply 1, 2, or 3 Fully Connected Layers\n",
    "* Apply an Output Layer\n",
    "* Return the output\n",
    "* Apply [TensorFlow's Dropout](https://www.tensorflow.org/api_docs/python/tf/nn/dropout) to one or more layers in the model using `keep_prob`. "
   ]
  },
  {
   "cell_type": "code",
   "execution_count": 7,
   "metadata": {
    "collapsed": false
   },
   "outputs": [
    {
     "name": "stdout",
     "output_type": "stream",
     "text": [
      "Neural Network Built!\n"
     ]
    }
   ],
   "source": [
    "def conv_net(x, keep_prob):\n",
    "    \"\"\"\n",
    "    Create a convolutional neural network model\n",
    "    : x: Placeholder tensor that holds image data.\n",
    "    : keep_prob: Placeholder tensor that hold dropout keep probability.\n",
    "    : return: Tensor that represents logits\n",
    "    \"\"\"\n",
    "    # TODO: Apply 1, 2, or 3 Convolution and Max Pool layers\n",
    "    #    Play around with different number of outputs, kernel size and stride\n",
    "    # Function Definition from Above:\n",
    "    #   conv2d_maxpool(x_tensor, conv_num_outputs, conv_ksize, conv_strides, pool_ksize, pool_strides)\n",
    "    x = conv2d_maxpool(x,  64, (3, 3), (1, 1), (2, 2), (2, 2))\n",
    "    x = conv2d_maxpool(x, 128, (3, 3), (1, 1), (2, 2), (2, 2))\n",
    "    x = conv2d_maxpool(x, 256, (3, 3), (1, 1), (2, 2), (2, 2))\n",
    "\n",
    "    # TODO: Apply a Flatten Layer\n",
    "    # Function Definition from Above:\n",
    "    #   flatten(x_tensor)\n",
    "    x = flatten(x)\n",
    "\n",
    "    # TODO: Apply 1, 2, or 3 Fully Connected Layers\n",
    "    #    Play around with different number of outputs\n",
    "    # Function Definition from Above:\n",
    "    #   fully_conn(x_tensor, num_outputs)\n",
    "    x = fully_conn(x, 2048)\n",
    "    x = fully_conn(x, 2048)\n",
    "    x = tf.nn.dropout(x, keep_prob)\n",
    "    x = fully_conn(x, 2048)\n",
    "    \n",
    "    # TODO: Apply an Output Layer\n",
    "    #    Set this to the number of classes\n",
    "    # Function Definition from Above:\n",
    "    #   output(x_tensor, num_outputs)\n",
    "    n_classes = 10\n",
    "    x = output(x, n_classes)\n",
    "    \n",
    "    # TODO: return output\n",
    "    return x\n",
    "\n",
    "\n",
    "\"\"\"\n",
    "DON'T MODIFY ANYTHING IN THIS CELL THAT IS BELOW THIS LINE\n",
    "\"\"\"\n",
    "\n",
    "##############################\n",
    "## Build the Neural Network ##\n",
    "##############################\n",
    "\n",
    "# Remove previous weights, bias, inputs, etc..\n",
    "tf.reset_default_graph()\n",
    "\n",
    "# Inputs\n",
    "x = neural_net_image_input((32, 32, 3))\n",
    "y = neural_net_label_input(10)\n",
    "keep_prob = neural_net_keep_prob_input()\n",
    "\n",
    "# Model\n",
    "logits = conv_net(x, keep_prob)\n",
    "\n",
    "# Name logits Tensor, so that is can be loaded from disk after training\n",
    "logits = tf.identity(logits, name='logits')\n",
    "\n",
    "# Loss and Optimizer\n",
    "cost = tf.reduce_mean(tf.nn.softmax_cross_entropy_with_logits(logits=logits, labels=y))\n",
    "optimizer = tf.train.AdamOptimizer().minimize(cost)\n",
    "\n",
    "# Accuracy\n",
    "correct_pred = tf.equal(tf.argmax(logits, 1), tf.argmax(y, 1))\n",
    "accuracy = tf.reduce_mean(tf.cast(correct_pred, tf.float32), name='accuracy')\n",
    "\n",
    "tests.test_conv_net(conv_net)"
   ]
  },
  {
   "cell_type": "markdown",
   "metadata": {},
   "source": [
    "## Train the Neural Network\n",
    "### Single Optimization\n",
    "Implement the function `train_neural_network` to do a single optimization.  The optimization should use `optimizer` to optimize in `session` with a `feed_dict` of the following:\n",
    "* `x` for image input\n",
    "* `y` for labels\n",
    "* `keep_prob` for keep probability for dropout\n",
    "\n",
    "This function will be called for each batch, so `tf.global_variables_initializer()` has already been called.\n",
    "\n",
    "Note: Nothing needs to be returned. This function is only optimizing the neural network."
   ]
  },
  {
   "cell_type": "code",
   "execution_count": 8,
   "metadata": {
    "collapsed": false
   },
   "outputs": [
    {
     "name": "stdout",
     "output_type": "stream",
     "text": [
      "Tests Passed\n"
     ]
    }
   ],
   "source": [
    "def train_neural_network(session, optimizer, keep_probability, feature_batch, label_batch):\n",
    "    \"\"\"\n",
    "    Optimize the session on a batch of images and labels\n",
    "    : session: Current TensorFlow session\n",
    "    : optimizer: TensorFlow optimizer function\n",
    "    : keep_probability: keep probability\n",
    "    : feature_batch: Batch of Numpy image data\n",
    "    : label_batch: Batch of Numpy label data\n",
    "    \"\"\"\n",
    "    session.run(optimizer, feed_dict={x: feature_batch, y: label_batch, keep_prob: keep_probability})\n",
    "\n",
    "\n",
    "\"\"\"\n",
    "DON'T MODIFY ANYTHING IN THIS CELL THAT IS BELOW THIS LINE\n",
    "\"\"\"\n",
    "tests.test_train_nn(train_neural_network)"
   ]
  },
  {
   "cell_type": "markdown",
   "metadata": {},
   "source": [
    "### Show Stats\n",
    "Implement the function `print_stats` to print loss and validation accuracy.  Use the global variables `valid_features` and `valid_labels` to calculate validation accuracy.  Use a keep probability of `1.0` to calculate the loss and validation accuracy."
   ]
  },
  {
   "cell_type": "code",
   "execution_count": 9,
   "metadata": {
    "collapsed": false
   },
   "outputs": [],
   "source": [
    "def print_stats(session, feature_batch, label_batch, cost, accuracy):\n",
    "    \"\"\"\n",
    "    Print information about loss and validation accuracy\n",
    "    : session: Current TensorFlow session\n",
    "    : feature_batch: Batch of Numpy image data\n",
    "    : label_batch: Batch of Numpy label data\n",
    "    : cost: TensorFlow cost function\n",
    "    : accuracy: TensorFlow accuracy function\n",
    "    \"\"\"\n",
    "    keep_probability = 1.0\n",
    "    training_loss = session.run(cost, feed_dict={x: feature_batch, y: label_batch, keep_prob: keep_probability})\n",
    "    validation_accuracy = session.run(accuracy, feed_dict={x: valid_features, y: valid_labels, keep_prob: keep_probability})\n",
    "    print(\"loss: {}, validation accuracy: {}\".format(training_loss, validation_accuracy))"
   ]
  },
  {
   "cell_type": "markdown",
   "metadata": {},
   "source": [
    "### Hyperparameters\n",
    "Tune the following parameters:\n",
    "* Set `epochs` to the number of iterations until the network stops learning or start overfitting\n",
    "* Set `batch_size` to the highest number that your machine has memory for.  Most people set them to common sizes of memory:\n",
    " * 64\n",
    " * 128\n",
    " * 256\n",
    " * ...\n",
    "* Set `keep_probability` to the probability of keeping a node using dropout"
   ]
  },
  {
   "cell_type": "code",
   "execution_count": 10,
   "metadata": {
    "collapsed": true
   },
   "outputs": [],
   "source": [
    "# TODO: Tune Parameters\n",
    "epochs = 32\n",
    "batch_size = 64\n",
    "keep_probability = 0.99"
   ]
  },
  {
   "cell_type": "markdown",
   "metadata": {},
   "source": [
    "### Train on a Single CIFAR-10 Batch\n",
    "Instead of training the neural network on all the CIFAR-10 batches of data, let's use a single batch. This should save time while you iterate on the model to get a better accuracy.  Once the final validation accuracy is 50% or greater, run the model on all the data in the next section."
   ]
  },
  {
   "cell_type": "code",
   "execution_count": 11,
   "metadata": {
    "collapsed": false
   },
   "outputs": [
    {
     "name": "stdout",
     "output_type": "stream",
     "text": [
      "Checking the Training on a Single Batch...\n",
      "Epoch  1, CIFAR-10 Batch 1:  loss: 2.3983154296875, validation accuracy: 0.24540001153945923\n",
      "Epoch  2, CIFAR-10 Batch 1:  loss: 2.1598458290100098, validation accuracy: 0.26759999990463257\n",
      "Epoch  3, CIFAR-10 Batch 1:  loss: 2.162496566772461, validation accuracy: 0.2531999945640564\n",
      "Epoch  4, CIFAR-10 Batch 1:  loss: 32.55451965332031, validation accuracy: 0.08639999479055405\n",
      "Epoch  5, CIFAR-10 Batch 1:  loss: 2.0702733993530273, validation accuracy: 0.3105999827384949\n",
      "Epoch  6, CIFAR-10 Batch 1:  loss: 2.0256924629211426, validation accuracy: 0.3555999994277954\n",
      "Epoch  7, CIFAR-10 Batch 1:  loss: 1.8588309288024902, validation accuracy: 0.3776000142097473\n",
      "Epoch  8, CIFAR-10 Batch 1:  loss: 1.713189959526062, validation accuracy: 0.4089999794960022\n",
      "Epoch  9, CIFAR-10 Batch 1:  loss: 1.6857713460922241, validation accuracy: 0.4301999807357788\n",
      "Epoch 10, CIFAR-10 Batch 1:  loss: 1.5107451677322388, validation accuracy: 0.4537999629974365\n",
      "Epoch 11, CIFAR-10 Batch 1:  loss: 1.4122302532196045, validation accuracy: 0.4469999670982361\n",
      "Epoch 12, CIFAR-10 Batch 1:  loss: 1.5349260568618774, validation accuracy: 0.4155999720096588\n",
      "Epoch 13, CIFAR-10 Batch 1:  loss: 1.2817862033843994, validation accuracy: 0.4813999533653259\n",
      "Epoch 14, CIFAR-10 Batch 1:  loss: 1.21614670753479, validation accuracy: 0.48819994926452637\n",
      "Epoch 15, CIFAR-10 Batch 1:  loss: 1.2186381816864014, validation accuracy: 0.47999995946884155\n",
      "Epoch 16, CIFAR-10 Batch 1:  loss: 1.141776442527771, validation accuracy: 0.4843999147415161\n",
      "Epoch 17, CIFAR-10 Batch 1:  loss: 1.0665979385375977, validation accuracy: 0.4955999255180359\n",
      "Epoch 18, CIFAR-10 Batch 1:  loss: 1.0902552604675293, validation accuracy: 0.4915999472141266\n",
      "Epoch 19, CIFAR-10 Batch 1:  loss: 1.0979080200195312, validation accuracy: 0.4867999851703644\n",
      "Epoch 20, CIFAR-10 Batch 1:  loss: 0.9784968495368958, validation accuracy: 0.50819993019104\n",
      "Epoch 21, CIFAR-10 Batch 1:  loss: 1.061713457107544, validation accuracy: 0.46859997510910034\n",
      "Epoch 22, CIFAR-10 Batch 1:  loss: 0.9063594341278076, validation accuracy: 0.49199995398521423\n",
      "Epoch 23, CIFAR-10 Batch 1:  loss: 2.1133790016174316, validation accuracy: 0.37759995460510254\n",
      "Epoch 24, CIFAR-10 Batch 1:  loss: 1.0247317552566528, validation accuracy: 0.4617999494075775\n",
      "Epoch 25, CIFAR-10 Batch 1:  loss: 1.0703952312469482, validation accuracy: 0.43859997391700745\n",
      "Epoch 26, CIFAR-10 Batch 1:  loss: 0.9277315735816956, validation accuracy: 0.4591999650001526\n",
      "Epoch 27, CIFAR-10 Batch 1:  loss: 1.0332971811294556, validation accuracy: 0.4229999780654907\n",
      "Epoch 28, CIFAR-10 Batch 1:  loss: 1.084160327911377, validation accuracy: 0.4365999400615692\n",
      "Epoch 29, CIFAR-10 Batch 1:  loss: 0.9750149250030518, validation accuracy: 0.4545999765396118\n",
      "Epoch 30, CIFAR-10 Batch 1:  loss: 0.8712315559387207, validation accuracy: 0.4113999605178833\n",
      "Epoch 31, CIFAR-10 Batch 1:  loss: 0.8739223480224609, validation accuracy: 0.4474000036716461\n",
      "Epoch 32, CIFAR-10 Batch 1:  loss: 0.8377830386161804, validation accuracy: 0.4789999723434448\n"
     ]
    }
   ],
   "source": [
    "\"\"\"\n",
    "DON'T MODIFY ANYTHING IN THIS CELL\n",
    "\"\"\"\n",
    "print('Checking the Training on a Single Batch...')\n",
    "with tf.Session() as sess:\n",
    "    # Initializing the variables\n",
    "    sess.run(tf.global_variables_initializer())\n",
    "    \n",
    "    # Training cycle\n",
    "    for epoch in range(epochs):\n",
    "        batch_i = 1\n",
    "        for batch_features, batch_labels in helper.load_preprocess_training_batch(batch_i, batch_size):\n",
    "            train_neural_network(sess, optimizer, keep_probability, batch_features, batch_labels)\n",
    "        print('Epoch {:>2}, CIFAR-10 Batch {}:  '.format(epoch + 1, batch_i), end='')\n",
    "        print_stats(sess, batch_features, batch_labels, cost, accuracy)"
   ]
  },
  {
   "cell_type": "markdown",
   "metadata": {},
   "source": [
    "### Fully Train the Model\n",
    "Now that you got a good accuracy with a single CIFAR-10 batch, try it with all five batches."
   ]
  },
  {
   "cell_type": "code",
   "execution_count": 12,
   "metadata": {
    "collapsed": false
   },
   "outputs": [
    {
     "name": "stdout",
     "output_type": "stream",
     "text": [
      "Training...\n",
      "Epoch  1, CIFAR-10 Batch 1:  loss: 2.4703726768493652, validation accuracy: 0.25659996271133423\n",
      "Epoch  1, CIFAR-10 Batch 2:  loss: 4.064845085144043, validation accuracy: 0.15479999780654907\n",
      "Epoch  1, CIFAR-10 Batch 3:  loss: 1.824415683746338, validation accuracy: 0.33799996972084045\n",
      "Epoch  1, CIFAR-10 Batch 4:  loss: 1.8531142473220825, validation accuracy: 0.36079996824264526\n",
      "Epoch  1, CIFAR-10 Batch 5:  loss: 1.9446204900741577, validation accuracy: 0.38419997692108154\n",
      "Epoch  2, CIFAR-10 Batch 1:  loss: 1.8818778991699219, validation accuracy: 0.4025999903678894\n",
      "Epoch  2, CIFAR-10 Batch 2:  loss: 1.6055241823196411, validation accuracy: 0.3741999864578247\n",
      "Epoch  2, CIFAR-10 Batch 3:  loss: 1.3008984327316284, validation accuracy: 0.46119993925094604\n",
      "Epoch  2, CIFAR-10 Batch 4:  loss: 1.396898865699768, validation accuracy: 0.4649999737739563\n",
      "Epoch  2, CIFAR-10 Batch 5:  loss: 1.6396195888519287, validation accuracy: 0.46279996633529663\n",
      "Epoch  3, CIFAR-10 Batch 1:  loss: 1.7971464395523071, validation accuracy: 0.3771999478340149\n",
      "Epoch  3, CIFAR-10 Batch 2:  loss: 1.3783888816833496, validation accuracy: 0.46379995346069336\n",
      "Epoch  3, CIFAR-10 Batch 3:  loss: 1.3272545337677002, validation accuracy: 0.44739997386932373\n",
      "Epoch  3, CIFAR-10 Batch 4:  loss: 1.242569923400879, validation accuracy: 0.45719999074935913\n",
      "Epoch  3, CIFAR-10 Batch 5:  loss: 1.556480050086975, validation accuracy: 0.48959991335868835\n",
      "Epoch  4, CIFAR-10 Batch 1:  loss: 1.4249203205108643, validation accuracy: 0.5153999328613281\n",
      "Epoch  4, CIFAR-10 Batch 2:  loss: 1.3294225931167603, validation accuracy: 0.4405999481678009\n",
      "Epoch  4, CIFAR-10 Batch 3:  loss: 1.2373452186584473, validation accuracy: 0.4909999966621399\n",
      "Epoch  4, CIFAR-10 Batch 4:  loss: 1.2593607902526855, validation accuracy: 0.5085999369621277\n",
      "Epoch  4, CIFAR-10 Batch 5:  loss: 1.5323220491409302, validation accuracy: 0.4925999343395233\n",
      "Epoch  5, CIFAR-10 Batch 1:  loss: 1.351077675819397, validation accuracy: 0.5237998962402344\n",
      "Epoch  5, CIFAR-10 Batch 2:  loss: 0.9566477537155151, validation accuracy: 0.5216000080108643\n",
      "Epoch  5, CIFAR-10 Batch 3:  loss: 1.140021562576294, validation accuracy: 0.44699999690055847\n",
      "Epoch  5, CIFAR-10 Batch 4:  loss: 1.1181493997573853, validation accuracy: 0.5207998752593994\n",
      "Epoch  5, CIFAR-10 Batch 5:  loss: 1.535768747329712, validation accuracy: 0.49039995670318604\n",
      "Epoch  6, CIFAR-10 Batch 1:  loss: 1.37029230594635, validation accuracy: 0.4869999289512634\n",
      "Epoch  6, CIFAR-10 Batch 2:  loss: 1.0939117670059204, validation accuracy: 0.5225999355316162\n",
      "Epoch  6, CIFAR-10 Batch 3:  loss: 1.0363173484802246, validation accuracy: 0.5435999631881714\n",
      "Epoch  6, CIFAR-10 Batch 4:  loss: 1.0496482849121094, validation accuracy: 0.5345999598503113\n",
      "Epoch  6, CIFAR-10 Batch 5:  loss: 1.342326045036316, validation accuracy: 0.53739994764328\n",
      "Epoch  7, CIFAR-10 Batch 1:  loss: 1.2340099811553955, validation accuracy: 0.5453999638557434\n",
      "Epoch  7, CIFAR-10 Batch 2:  loss: 0.9208375215530396, validation accuracy: 0.5691999197006226\n",
      "Epoch  7, CIFAR-10 Batch 3:  loss: 0.9648117423057556, validation accuracy: 0.5555999875068665\n",
      "Epoch  7, CIFAR-10 Batch 4:  loss: 1.0183967351913452, validation accuracy: 0.5787999629974365\n",
      "Epoch  7, CIFAR-10 Batch 5:  loss: 1.2198543548583984, validation accuracy: 0.5565999150276184\n",
      "Epoch  8, CIFAR-10 Batch 1:  loss: 1.2506545782089233, validation accuracy: 0.5487999320030212\n",
      "Epoch  8, CIFAR-10 Batch 2:  loss: 0.9354707598686218, validation accuracy: 0.5645999908447266\n",
      "Epoch  8, CIFAR-10 Batch 3:  loss: 0.7669526934623718, validation accuracy: 0.5813999176025391\n",
      "Epoch  8, CIFAR-10 Batch 4:  loss: 0.9255349636077881, validation accuracy: 0.5618000030517578\n",
      "Epoch  8, CIFAR-10 Batch 5:  loss: 1.0812088251113892, validation accuracy: 0.5715999007225037\n",
      "Epoch  9, CIFAR-10 Batch 1:  loss: 1.2075083255767822, validation accuracy: 0.5597999691963196\n",
      "Epoch  9, CIFAR-10 Batch 2:  loss: 0.8245302438735962, validation accuracy: 0.5801998972892761\n",
      "Epoch  9, CIFAR-10 Batch 3:  loss: 0.8617987036705017, validation accuracy: 0.5623999834060669\n",
      "Epoch  9, CIFAR-10 Batch 4:  loss: 0.9974973797798157, validation accuracy: 0.5607999563217163\n",
      "Epoch  9, CIFAR-10 Batch 5:  loss: 1.4100228548049927, validation accuracy: 0.47079992294311523\n",
      "Epoch 10, CIFAR-10 Batch 1:  loss: 1.1628501415252686, validation accuracy: 0.5797998905181885\n",
      "Epoch 10, CIFAR-10 Batch 2:  loss: 0.7860062718391418, validation accuracy: 0.5715999603271484\n",
      "Epoch 10, CIFAR-10 Batch 3:  loss: 0.8419173955917358, validation accuracy: 0.6069998741149902\n",
      "Epoch 10, CIFAR-10 Batch 4:  loss: 0.7569910287857056, validation accuracy: 0.6057999134063721\n",
      "Epoch 10, CIFAR-10 Batch 5:  loss: 1.0147393941879272, validation accuracy: 0.600399911403656\n",
      "Epoch 11, CIFAR-10 Batch 1:  loss: 1.0602967739105225, validation accuracy: 0.5739999413490295\n",
      "Epoch 11, CIFAR-10 Batch 2:  loss: 0.777806282043457, validation accuracy: 0.5973999500274658\n",
      "Epoch 11, CIFAR-10 Batch 3:  loss: 0.8582571744918823, validation accuracy: 0.5957999229431152\n",
      "Epoch 11, CIFAR-10 Batch 4:  loss: 0.8201252818107605, validation accuracy: 0.5771999359130859\n",
      "Epoch 11, CIFAR-10 Batch 5:  loss: 0.9303488731384277, validation accuracy: 0.6093999147415161\n",
      "Epoch 12, CIFAR-10 Batch 1:  loss: 1.0393086671829224, validation accuracy: 0.5981998443603516\n",
      "Epoch 12, CIFAR-10 Batch 2:  loss: 0.8223456740379333, validation accuracy: 0.5967999696731567\n",
      "Epoch 12, CIFAR-10 Batch 3:  loss: 0.706190288066864, validation accuracy: 0.615199863910675\n",
      "Epoch 12, CIFAR-10 Batch 4:  loss: 0.7149869799613953, validation accuracy: 0.5999999642372131\n",
      "Epoch 12, CIFAR-10 Batch 5:  loss: 0.781534731388092, validation accuracy: 0.6237999200820923\n",
      "Epoch 13, CIFAR-10 Batch 1:  loss: 1.0138431787490845, validation accuracy: 0.5979999303817749\n",
      "Epoch 13, CIFAR-10 Batch 2:  loss: 0.6726670861244202, validation accuracy: 0.6053998470306396\n",
      "Epoch 13, CIFAR-10 Batch 3:  loss: 0.6892467737197876, validation accuracy: 0.5945999026298523\n",
      "Epoch 13, CIFAR-10 Batch 4:  loss: 0.662580668926239, validation accuracy: 0.5971999168395996\n",
      "Epoch 13, CIFAR-10 Batch 5:  loss: 0.7332925200462341, validation accuracy: 0.6213998794555664\n",
      "Epoch 14, CIFAR-10 Batch 1:  loss: 1.1053773164749146, validation accuracy: 0.5902000069618225\n",
      "Epoch 14, CIFAR-10 Batch 2:  loss: 0.6765804290771484, validation accuracy: 0.5745999217033386\n",
      "Epoch 14, CIFAR-10 Batch 3:  loss: 0.6102132201194763, validation accuracy: 0.6029998660087585\n",
      "Epoch 14, CIFAR-10 Batch 4:  loss: 0.6697208881378174, validation accuracy: 0.6063998937606812\n",
      "Epoch 14, CIFAR-10 Batch 5:  loss: 0.7892986536026001, validation accuracy: 0.6205998659133911\n",
      "Epoch 15, CIFAR-10 Batch 1:  loss: 0.8463057279586792, validation accuracy: 0.6101999282836914\n",
      "Epoch 15, CIFAR-10 Batch 2:  loss: 0.633959174156189, validation accuracy: 0.5847998857498169\n",
      "Epoch 15, CIFAR-10 Batch 3:  loss: 0.4583664536476135, validation accuracy: 0.6257998943328857\n",
      "Epoch 15, CIFAR-10 Batch 4:  loss: 0.6324186325073242, validation accuracy: 0.624799907207489\n",
      "Epoch 15, CIFAR-10 Batch 5:  loss: 0.7084974050521851, validation accuracy: 0.6073998808860779\n",
      "Epoch 16, CIFAR-10 Batch 1:  loss: 0.841488242149353, validation accuracy: 0.6145999431610107\n",
      "Epoch 16, CIFAR-10 Batch 2:  loss: 0.5655851364135742, validation accuracy: 0.5691998600959778\n",
      "Epoch 16, CIFAR-10 Batch 3:  loss: 0.4815368056297302, validation accuracy: 0.595599889755249\n",
      "Epoch 16, CIFAR-10 Batch 4:  loss: 0.4784303605556488, validation accuracy: 0.6249998807907104\n",
      "Epoch 16, CIFAR-10 Batch 5:  loss: 0.6320216655731201, validation accuracy: 0.6233999133110046\n",
      "Epoch 17, CIFAR-10 Batch 1:  loss: 0.8335193395614624, validation accuracy: 0.6283999085426331\n",
      "Epoch 17, CIFAR-10 Batch 2:  loss: 0.6598634123802185, validation accuracy: 0.6119998693466187\n",
      "Epoch 17, CIFAR-10 Batch 3:  loss: 0.3618423342704773, validation accuracy: 0.6311999559402466\n",
      "Epoch 17, CIFAR-10 Batch 4:  loss: 0.5385442972183228, validation accuracy: 0.5923998951911926\n",
      "Epoch 17, CIFAR-10 Batch 5:  loss: 0.6356734037399292, validation accuracy: 0.6337999105453491\n",
      "Epoch 18, CIFAR-10 Batch 1:  loss: 0.7179156541824341, validation accuracy: 0.6207998991012573\n",
      "Epoch 18, CIFAR-10 Batch 2:  loss: 0.7354112863540649, validation accuracy: 0.6221998929977417\n",
      "Epoch 18, CIFAR-10 Batch 3:  loss: 0.401832640171051, validation accuracy: 0.6091999411582947\n",
      "Epoch 18, CIFAR-10 Batch 4:  loss: 0.46829932928085327, validation accuracy: 0.6145999431610107\n",
      "Epoch 18, CIFAR-10 Batch 5:  loss: 0.51494300365448, validation accuracy: 0.6219999194145203\n",
      "Epoch 19, CIFAR-10 Batch 1:  loss: 0.7601149082183838, validation accuracy: 0.5985998511314392\n",
      "Epoch 19, CIFAR-10 Batch 2:  loss: 0.589005172252655, validation accuracy: 0.611799955368042\n",
      "Epoch 19, CIFAR-10 Batch 3:  loss: 0.2659938633441925, validation accuracy: 0.6063998937606812\n",
      "Epoch 19, CIFAR-10 Batch 4:  loss: 0.45722222328186035, validation accuracy: 0.6229998469352722\n",
      "Epoch 19, CIFAR-10 Batch 5:  loss: 0.4122629761695862, validation accuracy: 0.621799886226654\n",
      "Epoch 20, CIFAR-10 Batch 1:  loss: 0.6060996055603027, validation accuracy: 0.6083999276161194\n",
      "Epoch 20, CIFAR-10 Batch 2:  loss: 0.502264142036438, validation accuracy: 0.619399905204773\n",
      "Epoch 20, CIFAR-10 Batch 3:  loss: 0.2768428921699524, validation accuracy: 0.5991998910903931\n",
      "Epoch 20, CIFAR-10 Batch 4:  loss: 0.37287330627441406, validation accuracy: 0.6125999093055725\n",
      "Epoch 20, CIFAR-10 Batch 5:  loss: 0.44350892305374146, validation accuracy: 0.6131998896598816\n",
      "Epoch 21, CIFAR-10 Batch 1:  loss: 0.7070546746253967, validation accuracy: 0.6089999675750732\n",
      "Epoch 21, CIFAR-10 Batch 2:  loss: 0.4109955430030823, validation accuracy: 0.6245998740196228\n",
      "Epoch 21, CIFAR-10 Batch 3:  loss: 0.1698818802833557, validation accuracy: 0.6293998956680298\n",
      "Epoch 21, CIFAR-10 Batch 4:  loss: 0.3221723735332489, validation accuracy: 0.6255998611450195\n",
      "Epoch 21, CIFAR-10 Batch 5:  loss: 0.49288803339004517, validation accuracy: 0.616399884223938\n",
      "Epoch 22, CIFAR-10 Batch 1:  loss: 0.6066346764564514, validation accuracy: 0.6171998977661133\n",
      "Epoch 22, CIFAR-10 Batch 2:  loss: 0.3187592029571533, validation accuracy: 0.6253998875617981\n",
      "Epoch 22, CIFAR-10 Batch 3:  loss: 0.17181207239627838, validation accuracy: 0.636199951171875\n",
      "Epoch 22, CIFAR-10 Batch 4:  loss: 0.4112483263015747, validation accuracy: 0.6037998795509338\n",
      "Epoch 22, CIFAR-10 Batch 5:  loss: 0.3430628180503845, validation accuracy: 0.6267998218536377\n",
      "Epoch 23, CIFAR-10 Batch 1:  loss: 0.5704957246780396, validation accuracy: 0.61819988489151\n",
      "Epoch 23, CIFAR-10 Batch 2:  loss: 0.37835413217544556, validation accuracy: 0.6215999126434326\n",
      "Epoch 23, CIFAR-10 Batch 3:  loss: 0.2057463377714157, validation accuracy: 0.6191998720169067\n",
      "Epoch 23, CIFAR-10 Batch 4:  loss: 0.33932363986968994, validation accuracy: 0.615199863910675\n",
      "Epoch 23, CIFAR-10 Batch 5:  loss: 0.2123757302761078, validation accuracy: 0.6273998618125916\n",
      "Epoch 24, CIFAR-10 Batch 1:  loss: 0.5488244891166687, validation accuracy: 0.6031999588012695\n",
      "Epoch 24, CIFAR-10 Batch 2:  loss: 0.3298107087612152, validation accuracy: 0.6297999024391174\n",
      "Epoch 24, CIFAR-10 Batch 3:  loss: 0.12886640429496765, validation accuracy: 0.6205998659133911\n",
      "Epoch 24, CIFAR-10 Batch 4:  loss: 0.2044556587934494, validation accuracy: 0.6139999032020569\n",
      "Epoch 24, CIFAR-10 Batch 5:  loss: 0.2644819915294647, validation accuracy: 0.6243999004364014\n",
      "Epoch 25, CIFAR-10 Batch 1:  loss: 0.5531067252159119, validation accuracy: 0.6259998679161072\n",
      "Epoch 25, CIFAR-10 Batch 2:  loss: 0.3987010419368744, validation accuracy: 0.6253998875617981\n",
      "Epoch 25, CIFAR-10 Batch 3:  loss: 0.20437884330749512, validation accuracy: 0.6101998686790466\n",
      "Epoch 25, CIFAR-10 Batch 4:  loss: 0.23240530490875244, validation accuracy: 0.5963999032974243\n",
      "Epoch 25, CIFAR-10 Batch 5:  loss: 0.24311883747577667, validation accuracy: 0.6185998916625977\n",
      "Epoch 26, CIFAR-10 Batch 1:  loss: 0.5961683392524719, validation accuracy: 0.6269999146461487\n",
      "Epoch 26, CIFAR-10 Batch 2:  loss: 0.3316047489643097, validation accuracy: 0.6237999200820923\n",
      "Epoch 26, CIFAR-10 Batch 3:  loss: 0.08431996405124664, validation accuracy: 0.6167998909950256\n",
      "Epoch 26, CIFAR-10 Batch 4:  loss: 0.2304561734199524, validation accuracy: 0.6233998537063599\n",
      "Epoch 26, CIFAR-10 Batch 5:  loss: 0.21933238208293915, validation accuracy: 0.6293998956680298\n",
      "Epoch 27, CIFAR-10 Batch 1:  loss: 0.4918471872806549, validation accuracy: 0.6169999241828918\n",
      "Epoch 27, CIFAR-10 Batch 2:  loss: 0.23269423842430115, validation accuracy: 0.6403999328613281\n",
      "Epoch 27, CIFAR-10 Batch 3:  loss: 0.09604300558567047, validation accuracy: 0.6171998977661133\n",
      "Epoch 27, CIFAR-10 Batch 4:  loss: 0.2422008514404297, validation accuracy: 0.6197999119758606\n",
      "Epoch 27, CIFAR-10 Batch 5:  loss: 0.1969282627105713, validation accuracy: 0.6433998942375183\n",
      "Epoch 28, CIFAR-10 Batch 1:  loss: 0.565368115901947, validation accuracy: 0.629599928855896\n",
      "Epoch 28, CIFAR-10 Batch 2:  loss: 0.2572419345378876, validation accuracy: 0.6129998564720154\n",
      "Epoch 28, CIFAR-10 Batch 3:  loss: 0.1098424568772316, validation accuracy: 0.6063998937606812\n",
      "Epoch 28, CIFAR-10 Batch 4:  loss: 0.18220682442188263, validation accuracy: 0.6207999587059021\n",
      "Epoch 28, CIFAR-10 Batch 5:  loss: 0.22861400246620178, validation accuracy: 0.6153998970985413\n",
      "Epoch 29, CIFAR-10 Batch 1:  loss: 0.5566099882125854, validation accuracy: 0.6239998936653137\n",
      "Epoch 29, CIFAR-10 Batch 2:  loss: 0.310659795999527, validation accuracy: 0.6015998721122742\n",
      "Epoch 29, CIFAR-10 Batch 3:  loss: 0.13509239256381989, validation accuracy: 0.6405999064445496\n",
      "Epoch 29, CIFAR-10 Batch 4:  loss: 0.12588611245155334, validation accuracy: 0.6223999261856079\n",
      "Epoch 29, CIFAR-10 Batch 5:  loss: 0.14545759558677673, validation accuracy: 0.6267999410629272\n",
      "Epoch 30, CIFAR-10 Batch 1:  loss: 0.42455917596817017, validation accuracy: 0.6303998827934265\n",
      "Epoch 30, CIFAR-10 Batch 2:  loss: 0.14959891140460968, validation accuracy: 0.6339998841285706\n",
      "Epoch 30, CIFAR-10 Batch 3:  loss: 0.078855499625206, validation accuracy: 0.6397998929023743\n",
      "Epoch 30, CIFAR-10 Batch 4:  loss: 0.22890052199363708, validation accuracy: 0.6393998861312866\n",
      "Epoch 30, CIFAR-10 Batch 5:  loss: 0.11956192553043365, validation accuracy: 0.6215998530387878\n",
      "Epoch 31, CIFAR-10 Batch 1:  loss: 0.44382888078689575, validation accuracy: 0.626599907875061\n",
      "Epoch 31, CIFAR-10 Batch 2:  loss: 0.19686977565288544, validation accuracy: 0.6265999674797058\n",
      "Epoch 31, CIFAR-10 Batch 3:  loss: 0.08996129035949707, validation accuracy: 0.6209998726844788\n",
      "Epoch 31, CIFAR-10 Batch 4:  loss: 0.24249331653118134, validation accuracy: 0.6293998956680298\n",
      "Epoch 31, CIFAR-10 Batch 5:  loss: 0.09838909655809402, validation accuracy: 0.6391999125480652\n",
      "Epoch 32, CIFAR-10 Batch 1:  loss: 0.4912579655647278, validation accuracy: 0.6335998773574829\n",
      "Epoch 32, CIFAR-10 Batch 2:  loss: 0.3076217472553253, validation accuracy: 0.6273999214172363\n",
      "Epoch 32, CIFAR-10 Batch 3:  loss: 0.07677498459815979, validation accuracy: 0.6171998977661133\n",
      "Epoch 32, CIFAR-10 Batch 4:  loss: 0.2745133340358734, validation accuracy: 0.6143999695777893\n",
      "Epoch 32, CIFAR-10 Batch 5:  loss: 0.0811927318572998, validation accuracy: 0.6289999485015869\n"
     ]
    }
   ],
   "source": [
    "\"\"\"\n",
    "DON'T MODIFY ANYTHING IN THIS CELL\n",
    "\"\"\"\n",
    "save_model_path = './image_classification'\n",
    "\n",
    "print('Training...')\n",
    "with tf.Session() as sess:\n",
    "    # Initializing the variables\n",
    "    sess.run(tf.global_variables_initializer())\n",
    "    \n",
    "    # Training cycle\n",
    "    for epoch in range(epochs):\n",
    "        # Loop over all batches\n",
    "        n_batches = 5\n",
    "        for batch_i in range(1, n_batches + 1):\n",
    "            for batch_features, batch_labels in helper.load_preprocess_training_batch(batch_i, batch_size):\n",
    "                train_neural_network(sess, optimizer, keep_probability, batch_features, batch_labels)\n",
    "            print('Epoch {:>2}, CIFAR-10 Batch {}:  '.format(epoch + 1, batch_i), end='')\n",
    "            print_stats(sess, batch_features, batch_labels, cost, accuracy)\n",
    "            \n",
    "    # Save Model\n",
    "    saver = tf.train.Saver()\n",
    "    save_path = saver.save(sess, save_model_path)"
   ]
  },
  {
   "cell_type": "markdown",
   "metadata": {},
   "source": [
    "# Checkpoint\n",
    "The model has been saved to disk.\n",
    "## Test Model\n",
    "Test your model against the test dataset.  This will be your final accuracy. You should have an accuracy greater than 50%. If you don't, keep tweaking the model architecture and parameters."
   ]
  },
  {
   "cell_type": "code",
   "execution_count": 13,
   "metadata": {
    "collapsed": false
   },
   "outputs": [
    {
     "name": "stdout",
     "output_type": "stream",
     "text": [
      "Testing Accuracy: 0.6427149681528662\n",
      "\n"
     ]
    },
    {
     "data": {
      "image/png": "[encoded data removed]",
      "text/plain": [
       "<matplotlib.figure.Figure at 0x7f1feb30a3c8>"
      ]
     },
     "metadata": {
      "image/png": {
       "height": 319,
       "width": 355
      }
     },
     "output_type": "display_data"
    }
   ],
   "source": [
    "\"\"\"\n",
    "DON'T MODIFY ANYTHING IN THIS CELL\n",
    "\"\"\"\n",
    "%matplotlib inline\n",
    "%config InlineBackend.figure_format = 'retina'\n",
    "\n",
    "import tensorflow as tf\n",
    "import pickle\n",
    "import helper\n",
    "import random\n",
    "\n",
    "# Set batch size if not already set\n",
    "try:\n",
    "    if batch_size:\n",
    "        pass\n",
    "except NameError:\n",
    "    batch_size = 64\n",
    "\n",
    "save_model_path = './image_classification'\n",
    "n_samples = 4\n",
    "top_n_predictions = 3\n",
    "\n",
    "def test_model():\n",
    "    \"\"\"\n",
    "    Test the saved model against the test dataset\n",
    "    \"\"\"\n",
    "\n",
    "    test_features, test_labels = pickle.load(open('preprocess_training.p', mode='rb'))\n",
    "    loaded_graph = tf.Graph()\n",
    "\n",
    "    with tf.Session(graph=loaded_graph) as sess:\n",
    "        # Load model\n",
    "        loader = tf.train.import_meta_graph(save_model_path + '.meta')\n",
    "        loader.restore(sess, save_model_path)\n",
    "\n",
    "        # Get Tensors from loaded model\n",
    "        loaded_x = loaded_graph.get_tensor_by_name('x:0')\n",
    "        loaded_y = loaded_graph.get_tensor_by_name('y:0')\n",
    "        loaded_keep_prob = loaded_graph.get_tensor_by_name('keep_prob:0')\n",
    "        loaded_logits = loaded_graph.get_tensor_by_name('logits:0')\n",
    "        loaded_acc = loaded_graph.get_tensor_by_name('accuracy:0')\n",
    "        \n",
    "        # Get accuracy in batches for memory limitations\n",
    "        test_batch_acc_total = 0\n",
    "        test_batch_count = 0\n",
    "        \n",
    "        for train_feature_batch, train_label_batch in helper.batch_features_labels(test_features, test_labels, batch_size):\n",
    "            test_batch_acc_total += sess.run(\n",
    "                loaded_acc,\n",
    "                feed_dict={loaded_x: train_feature_batch, loaded_y: train_label_batch, loaded_keep_prob: 1.0})\n",
    "            test_batch_count += 1\n",
    "\n",
    "        print('Testing Accuracy: {}\\n'.format(test_batch_acc_total/test_batch_count))\n",
    "\n",
    "        # Print Random Samples\n",
    "        random_test_features, random_test_labels = tuple(zip(*random.sample(list(zip(test_features, test_labels)), n_samples)))\n",
    "        random_test_predictions = sess.run(\n",
    "            tf.nn.top_k(tf.nn.softmax(loaded_logits), top_n_predictions),\n",
    "            feed_dict={loaded_x: random_test_features, loaded_y: random_test_labels, loaded_keep_prob: 1.0})\n",
    "        helper.display_image_predictions(random_test_features, random_test_labels, random_test_predictions)\n",
    "\n",
    "\n",
    "test_model()"
   ]
  },
  {
   "cell_type": "markdown",
   "metadata": {},
   "source": [
    "## Why 50-80% Accuracy?\n",
    "You might be wondering why you can't get an accuracy any higher. First things first, 50% isn't bad for a simple CNN.  Pure guessing would get you 10% accuracy. However, you might notice people are getting scores [well above 80%](http://rodrigob.github.io/are_we_there_yet/build/classification_datasets_results.html#43494641522d3130).  That's because we haven't taught you all there is to know about neural networks. We still need to cover a few more techniques.\n",
    "## Submitting This Project\n",
    "When submitting this project, make sure to run all the cells before saving the notebook.  Save the notebook file as \"dlnd_image_classification.ipynb\" and save it as a HTML file under \"File\" -> \"Download as\".  Include the \"helper.py\" and \"problem_unittests.py\" files in your submission."
   ]
  }
 ],
 "metadata": {
  "anaconda-cloud": {},
  "kernelspec": {
   "display_name": "Python [default]",
   "language": "python",
   "name": "python3"
  },
  "language_info": {
   "codemirror_mode": {
    "name": "ipython",
    "version": 3
   },
   "file_extension": ".py",
   "mimetype": "text/x-python",
   "name": "python",
   "nbconvert_exporter": "python",
   "pygments_lexer": "ipython3",
   "version": "3.5.2"
  }
 },
 "nbformat": 4,
 "nbformat_minor": 0
}
